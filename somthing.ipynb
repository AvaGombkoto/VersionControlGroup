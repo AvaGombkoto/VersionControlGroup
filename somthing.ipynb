{
 "cells": [
  {
   "cell_type": "code",
   "execution_count": 3,
   "metadata": {},
   "outputs": [
    {
     "name": "stdin",
     "output_type": "stream",
     "text": [
      "Enter a word: test\n",
      "Enter the letter you want to search for: t\n"
     ]
    },
    {
     "name": "stdout",
     "output_type": "stream",
     "text": [
      "There are 2 occurances of t in the word test\n"
     ]
    }
   ],
   "source": [
    "name=input(prompt=\"Enter a word:\")\n",
    "letter=input(prompt=\"Enter the letter you want to search for:\")\n",
    "count=0\n",
    "for cur in name:\n",
    "    if cur==letter:\n",
    "        count=count+1\n",
    "print(\"There are\",count,\"occurances of\",letter,\"in the word\",name)"
   ]
  },
  {
   "cell_type": "code",
   "execution_count": null,
   "metadata": {},
   "outputs": [],
   "source": []
  }
 ],
 "metadata": {
  "kernelspec": {
   "display_name": "Python 3",
   "language": "python",
   "name": "python3"
  },
  "language_info": {
   "codemirror_mode": {
    "name": "ipython",
    "version": 3
   },
   "file_extension": ".py",
   "mimetype": "text/x-python",
   "name": "python",
   "nbconvert_exporter": "python",
   "pygments_lexer": "ipython3",
   "version": "3.8.3"
  }
 },
 "nbformat": 4,
 "nbformat_minor": 4
}
